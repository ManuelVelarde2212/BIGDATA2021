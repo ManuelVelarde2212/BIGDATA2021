{
 "cells": [
  {
   "cell_type": "markdown",
   "id": "9c7784be",
   "metadata": {},
   "source": [
    "# 5 EJERCICIOS DE PREPROCESAMIENTO\n",
    "\n",
    "```\n",
    "Docente: CARLOS FERNANDO MONTOYA CUBAS\n",
    "Alumno: MANUEL HUMBERTO VELARDE FLORES\n",
    "```"
   ]
  },
  {
   "cell_type": "markdown",
   "id": "2df461e8",
   "metadata": {},
   "source": [
    "## Acceso al entorno spark"
   ]
  },
  {
   "cell_type": "code",
   "execution_count": 1,
   "id": "7565b4a4",
   "metadata": {},
   "outputs": [],
   "source": [
    "import findspark\n",
    "findspark.init()\n",
    " \n",
    "import pyspark\n",
    "from pyspark.sql import SparkSession\n",
    "from pyspark import SparkContext\n",
    "spark = SparkSession.builder.getOrCreate()\n",
    "sc = SparkContext.getOrCreate()"
   ]
  },
  {
   "cell_type": "markdown",
   "id": "e85eaaae",
   "metadata": {},
   "source": [
    "1. SIMILITUD DE COSENOS"
   ]
  },
  {
   "cell_type": "code",
   "execution_count": 2,
   "id": "9abd8723",
   "metadata": {},
   "outputs": [
    {
     "name": "stdout",
     "output_type": "stream",
     "text": [
      "0.08333333333333333\n"
     ]
    }
   ],
   "source": [
    "def cosenos(x,y):\n",
    "    \"\"\"\n",
    "    Calcula la distancia de cosenos\n",
    "\n",
    "    Args:\n",
    "        x (double): Un número de tipo double\n",
    "        y (double): Un número de tipo double\n",
    "\n",
    "    Returns:\n",
    "        double: Un número de tipo double equivalente a la distancia de coseno de x e y\n",
    "    \"\"\"\n",
    "    return ((x*y)/((x*x)*(y*y)))\n",
    "print(cosenos(3,4))"
   ]
  },
  {
   "cell_type": "code",
   "execution_count": 5,
   "id": "773f4278",
   "metadata": {},
   "outputs": [
    {
     "name": "stdout",
     "output_type": "stream",
     "text": [
      "[(1, 2), (5, 10), (20, 3), (3, 4)]\n"
     ]
    }
   ],
   "source": [
    "listaNumeros = [(1,2), (5,10), (20,3), (3,4)]\n",
    "numerosRDD = sc.parallelize(listaNumeros, 4)\n",
    "print(numerosRDD.collect())"
   ]
  },
  {
   "cell_type": "code",
   "execution_count": 6,
   "id": "30aa7663",
   "metadata": {},
   "outputs": [
    {
     "name": "stdout",
     "output_type": "stream",
     "text": [
      "[0.5, 0.02, 0.016666666666666666, 0.08333333333333333]\n"
     ]
    }
   ],
   "source": [
    "variosRDD = numerosRDD.map(lambda x: cosenos(x[0],x[1]))\n",
    "print (variosRDD.collect())"
   ]
  },
  {
   "cell_type": "markdown",
   "id": "2ead67b7",
   "metadata": {},
   "source": [
    "2. Escalonamiento"
   ]
  },
  {
   "cell_type": "code",
   "execution_count": 7,
   "id": "1fec9703",
   "metadata": {},
   "outputs": [],
   "source": [
    "def maxminScale(x):\n",
    "    \"\"\"\n",
    "    Realiza escalonamiento para un arreglo numérico\n",
    "\n",
    "    Args:\n",
    "        x (array of doubles): Un arreglo de números de tipo double\n",
    "\n",
    "    Returns:\n",
    "        RDD of doubles: RDD de números de tipo double con los valores escalonados\n",
    "    \"\"\"\n",
    "    minX = min(x)\n",
    "    maxX = max(x)\n",
    "    xRDD = sc.parallelize(x, 5)\n",
    "    maxminArray = xRDD.map(lambda x: (x-minX)/(maxX-minX))\n",
    "    return maxminArray"
   ]
  },
  {
   "cell_type": "code",
   "execution_count": 8,
   "id": "4f336004",
   "metadata": {},
   "outputs": [
    {
     "name": "stdout",
     "output_type": "stream",
     "text": [
      "[10, 20, 3, 4, 14, 132, 2]\n"
     ]
    }
   ],
   "source": [
    "arraySinEscalonar = [10,20,3,4,14,132,2]\n",
    "print(arraySinEscalonar)"
   ]
  },
  {
   "cell_type": "code",
   "execution_count": 9,
   "id": "2f79b1cc",
   "metadata": {},
   "outputs": [
    {
     "name": "stdout",
     "output_type": "stream",
     "text": [
      "[0.06153846153846154, 0.13846153846153847, 0.007692307692307693, 0.015384615384615385, 0.09230769230769231, 1.0, 0.0]\n"
     ]
    }
   ],
   "source": [
    "arrayEscalonadoRDD = maxminScale(arraySinEscalonar)\n",
    "print (arrayEscalonadoRDD.collect())"
   ]
  },
  {
   "cell_type": "markdown",
   "id": "c4a1fec5",
   "metadata": {},
   "source": [
    "3. Normalización"
   ]
  },
  {
   "cell_type": "code",
   "execution_count": 13,
   "id": "d6ba06e3",
   "metadata": {},
   "outputs": [],
   "source": [
    "import math\n",
    "def norm(x):\n",
    "    \"\"\"\n",
    "    Realiza la normalización para los elementos de un arreglo\n",
    "    \n",
    "    Args:\n",
    "        x (numeric array): Un arreglo de números\n",
    "        \n",
    "    Returns:\n",
    "        RDD of doubles: RDD de números de tipo double con los valores normalizados\n",
    "    \"\"\"\n",
    "    xRDD = sc.parallelize(x, 5)\n",
    "    cuadrados = xRDD.map(lambda x: x*x)\n",
    "    total = cuadrados.sum()\n",
    "    raiz = math.sqrt(total)\n",
    "    rddNorm = xRDD.map(lambda x: (x/raiz))\n",
    "    return rddNorm"
   ]
  },
  {
   "cell_type": "code",
   "execution_count": 25,
   "id": "cd0dfcf4",
   "metadata": {},
   "outputs": [
    {
     "name": "stdout",
     "output_type": "stream",
     "text": [
      "[10, 20, 3, 4, 14, 132, 2]\n"
     ]
    }
   ],
   "source": [
    "arraySinNormalizar = [10,20,3,4,14,132,2]\n",
    "print(arraySinNormalizar)"
   ]
  },
  {
   "cell_type": "code",
   "execution_count": 26,
   "id": "c33777b2",
   "metadata": {},
   "outputs": [
    {
     "name": "stdout",
     "output_type": "stream",
     "text": [
      "[0.07422900680690823, 0.14845801361381647, 0.022268702042072472, 0.029691602722763295, 0.10392060952967153, 0.9798228898511887, 0.014845801361381647]\n"
     ]
    }
   ],
   "source": [
    "arrayNormalizadoRDD = norm(arraySinNormalizar)\n",
    "print(arrayNormalizadoRDD.collect())"
   ]
  },
  {
   "cell_type": "markdown",
   "id": "49abef15",
   "metadata": {},
   "source": [
    "4. Estandarización"
   ]
  },
  {
   "cell_type": "code",
   "execution_count": 16,
   "id": "c1e4b6f2",
   "metadata": {},
   "outputs": [],
   "source": [
    "def estandarizacion(x):\n",
    "    \"\"\"\n",
    "    Estandariza los elementos de un arreglo\n",
    "    \n",
    "    Args:\n",
    "        x (numeric array): Un arreglo de números\n",
    "        \n",
    "    Returns:\n",
    "        RDD of doubles: RDD de números de tipo double con los valores estandarizados\n",
    "    \"\"\"\n",
    "    xRDD = sc.parallelize(x, 5)\n",
    "    media = xRDD.mean()\n",
    "    desv = xRDD.stdev()\n",
    "    rddEst = xRDD.map(lambda x : (x-media)/desv)\n",
    "    return rddEst"
   ]
  },
  {
   "cell_type": "code",
   "execution_count": 27,
   "id": "3932c119",
   "metadata": {},
   "outputs": [
    {
     "name": "stdout",
     "output_type": "stream",
     "text": [
      "[10, 20, 3, 4, 14, 132, 2]\n"
     ]
    }
   ],
   "source": [
    "arraySinEstandarizar = [10,20,3,4,14,132,2]\n",
    "print(arraySinEstandarizar)"
   ]
  },
  {
   "cell_type": "code",
   "execution_count": 28,
   "id": "9336b3ca",
   "metadata": {},
   "outputs": [
    {
     "name": "stdout",
     "output_type": "stream",
     "text": [
      "[-0.37746938822413884, -0.14770541278335866, -0.538304171032685, -0.5153277734886069, -0.2855637980478268, 2.4256511121533793, -0.561280568576763]\n"
     ]
    }
   ],
   "source": [
    "arrayEstandarizadoRDD = estandarizacion(arraySinEstandarizar)\n",
    "print(arrayEstandarizadoRDD.collect())"
   ]
  },
  {
   "cell_type": "markdown",
   "id": "782445e1",
   "metadata": {},
   "source": [
    "5. Minkowski"
   ]
  },
  {
   "cell_type": "code",
   "execution_count": 32,
   "id": "58d10d2b",
   "metadata": {},
   "outputs": [],
   "source": [
    "import math\n",
    "def minkowski(xRDD, p):\n",
    "    \"\"\"\n",
    "    Devuelve la distancia de Minkowski de dos vectores numéricos.\n",
    "\n",
    "    Args:\n",
    "        xRDD (RDD of doubles): RDD de dos vectores de numeros.\n",
    "        p (int): Número entero que representa el exponente interno y el índice radical\n",
    "\n",
    "    Returns:\n",
    "        double: Distancia entre dos vectores numéricos.\n",
    "    \"\"\"\n",
    "    sumatoria = xRDD.map(lambda x: math.pow(abs(x[0]-x[1]),2)).sum()\n",
    "    resMinkowski = math.pow(sumatoria,1/p)\n",
    "    return(resMinkowski)"
   ]
  },
  {
   "cell_type": "code",
   "execution_count": 33,
   "id": "6223e81e",
   "metadata": {},
   "outputs": [
    {
     "data": {
      "text/plain": [
       "[array([0.37300923, 0.69433584]),\n",
       " array([0.91416461, 0.69123269]),\n",
       " array([0.55350973, 0.82490504]),\n",
       " array([0.09287674, 0.50935804]),\n",
       " array([0.78988058, 0.65208356]),\n",
       " array([0.67574367, 0.52491406]),\n",
       " array([0.724133  , 0.13582152]),\n",
       " array([0.6030266 , 0.16315708]),\n",
       " array([0.04763802, 0.46890279]),\n",
       " array([0.84583735, 0.11825824])]"
      ]
     },
     "execution_count": 33,
     "metadata": {},
     "output_type": "execute_result"
    }
   ],
   "source": [
    "import numpy as np\n",
    "# Usaremos vectores aleatorios\n",
    "xRDD = sc.parallelize(np.random.random(size=(10,2)),3)\n",
    "xRDD.collect()"
   ]
  },
  {
   "cell_type": "code",
   "execution_count": 35,
   "id": "425a0c3a",
   "metadata": {},
   "outputs": [
    {
     "name": "stdout",
     "output_type": "stream",
     "text": [
      "1.1398767795285785\n"
     ]
    }
   ],
   "source": [
    "distanciaMinkowski = minkowski(xRDD,4)\n",
    "print(distanciaMinkowski)"
   ]
  }
 ],
 "metadata": {
  "kernelspec": {
   "display_name": "Python 3 (ipykernel)",
   "language": "python",
   "name": "python3"
  },
  "language_info": {
   "codemirror_mode": {
    "name": "ipython",
    "version": 3
   },
   "file_extension": ".py",
   "mimetype": "text/x-python",
   "name": "python",
   "nbconvert_exporter": "python",
   "pygments_lexer": "ipython3",
   "version": "3.9.5"
  }
 },
 "nbformat": 4,
 "nbformat_minor": 5
}
