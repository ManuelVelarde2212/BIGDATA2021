{
  "nbformat": 4,
  "nbformat_minor": 0,
  "metadata": {
    "colab": {
      "name": "ACTIVIDAD03.ipynb",
      "provenance": [],
      "collapsed_sections": []
    },
    "kernelspec": {
      "name": "python3",
      "display_name": "Python 3"
    },
    "language_info": {
      "name": "python"
    }
  },
  "cells": [
    {
      "cell_type": "markdown",
      "metadata": {
        "id": "mCFXEOoFhlDl"
      },
      "source": [
        "# Actividad 03: Reglas de Asociación\n",
        "```\n",
        "Docente: CARLOS FERNANDO MONTOYA CUBAS\n",
        "Alumno: MANUEL HUMBERTO VELARDE FLORES\n",
        "```"
      ]
    },
    {
      "cell_type": "markdown",
      "metadata": {
        "id": "_ASu7x-giud3"
      },
      "source": [
        "## Importación de Librerías\n",
        "Librerías indicadas en el enunciado del trabajo"
      ]
    },
    {
      "cell_type": "code",
      "metadata": {
        "id": "78OJJDS1hkro"
      },
      "source": [
        "import numpy as np\n",
        "import pandas as pd\n",
        "from itertools import *\n",
        "import networkx as nx"
      ],
      "execution_count": 1,
      "outputs": []
    },
    {
      "cell_type": "markdown",
      "metadata": {
        "id": "A_64t4ggvvJg"
      },
      "source": [
        "## Lectura de archivo"
      ]
    },
    {
      "cell_type": "code",
      "metadata": {
        "id": "lmU9grkchMLN"
      },
      "source": [
        "spotify = np.load('spotify.npy',allow_pickle=True,encoding=\"latin1\")\n",
        "spotify = spotify.tolist()\n",
        "playlists = []\n",
        "for k in spotify:\n",
        "  playlists.append(spotify[k])"
      ],
      "execution_count": 2,
      "outputs": []
    },
    {
      "cell_type": "markdown",
      "metadata": {
        "id": "xqX1KPptQfaH"
      },
      "source": [
        "## Implementación del algoritmo apriori y reglas de asociación"
      ]
    },
    {
      "cell_type": "markdown",
      "metadata": {
        "id": "ZeM2_iFRWecj"
      },
      "source": [
        "### Implementación de métodos de apoyo"
      ]
    },
    {
      "cell_type": "code",
      "metadata": {
        "id": "U7hKJHaBPSol"
      },
      "source": [
        "def conteoApariciones(lista_de_playlists):\n",
        "  # Generar un diccionario para almacenar nuestra información\n",
        "  conteo = {}\n",
        "  # Asignar el tamaño de nuestra información a una variable\n",
        "  tamanio_lista = len(lista_de_playlists)\n",
        "  # Recorrer para determinar las apariciones\n",
        "  for i in range(tamanio_lista):\n",
        "    tamanio_playlist = len(lista_de_playlists[i])\n",
        "    for j in range(tamanio_playlist):\n",
        "      cancion = lista_de_playlists[i][j]\n",
        "      # Aumentar un punto al conteo y guardar el número de playlist en la\n",
        "      # que se encuentra\n",
        "      if cancion in conteo:\n",
        "        conteo[cancion][0] += 1\n",
        "        conteo[cancion][1].add(i)\n",
        "        pass\n",
        "      # Crear un nuevo elemento\n",
        "      else:\n",
        "        conteo[cancion] = [1,{i}]\n",
        "  return conteo\n",
        "\n",
        "def conteoNItemsets(itemset,iteracionPrevia,longDataset):\n",
        "  nuevoItemset = []\n",
        "  nuevaIteracion = []\n",
        "  for i in range(0,len(itemset)-1):\n",
        "    for j in range(i+1,len(itemset)):\n",
        "      # Combinar elementos de longitud N para ver el número de repeticiones\n",
        "      combinacion = sorted(list(set(itemset[i]+itemset[j])))\n",
        "      # Si la combinación solo incrementa su longitud en 1 es válida\n",
        "      if(len(combinacion)==len(itemset[0])+1 and combinacion not in nuevoItemset):\n",
        "      # Creamos el nuevo Itemset\n",
        "        posicionesPlaylists = iteracionPrevia[i][2]&iteracionPrevia[j][2]\n",
        "        nuevoItemset.append(combinacion)\n",
        "        nuevaIteracion.append([combinacion,len(list(posicionesPlaylists))/longDataset,posicionesPlaylists])\n",
        "  return nuevaIteracion"
      ],
      "execution_count": 58,
      "outputs": []
    },
    {
      "cell_type": "code",
      "metadata": {
        "id": "dPgOybpDseIt"
      },
      "source": [
        "def obtenerReglas(arreglo):\n",
        "  # Hacemos uso de permutaciones para considerar nuestas posibles reglas\n",
        "  permutaciones = list(permutations(arreglo))\n",
        "  arregloX = []\n",
        "  arregloY = []\n",
        "  for permutacion in permutaciones:\n",
        "    permutacion = list(permutacion) # convertir en arreglo\n",
        "    # Obtener las posibles separaciones considerando que en X -> Y\n",
        "    # X y Y tiene una longitud mínima de 1\n",
        "    for i in range(1,len(permutacion)):\n",
        "      # Realizamos las separaciones\n",
        "      X, Y = permutacion[:i],permutacion[i:]\n",
        "\n",
        "      # Ordenamos nuestras separaciones para eliminar repetidos\n",
        "      X.sort()\n",
        "      Y.sort()\n",
        "\n",
        "      # Las agregamos al total\n",
        "      arregloX.append(X)\n",
        "      arregloY.append(Y)\n",
        "\n",
        "  # Quitamos los duplicados\n",
        "  arregloXAux = []\n",
        "  for i in arregloX:\n",
        "    if i not in arregloXAux:\n",
        "      arregloXAux.append(i)\n",
        "  arregloYAux = []\n",
        "  for i in arregloY:\n",
        "    if i not in arregloYAux:\n",
        "      arregloYAux.append(i)\n",
        "  arregloX = arregloXAux\n",
        "  arregloY = arregloYAux\n",
        "  return arregloX,arregloY"
      ],
      "execution_count": 102,
      "outputs": []
    },
    {
      "cell_type": "markdown",
      "metadata": {
        "id": "_zgkomYeGIFb"
      },
      "source": [
        "### Implementación de métodos principales"
      ]
    },
    {
      "cell_type": "code",
      "metadata": {
        "id": "7cJiTKJS03rp"
      },
      "source": [
        "def get_frequent_itemsets(playlists, min_support):\n",
        "  # Definimos dos arreglos para almacenar nuestros itemsets y su soporte\n",
        "  itemsets = []\n",
        "  valores = []\n",
        "  \n",
        "  # Creamos una variable para determinar la iteración en la que nos encontramos\n",
        "  iter = 1\n",
        "  print(\"Iteración número ===> \",iter)\n",
        "  # Realizamos el procedimiento para tratar la primera iteración\n",
        "  # Obtenemos el itemset de 1 elemento, el cual estará en un diccionario\n",
        "  diccionarioConteo = conteoApariciones(playlists)\n",
        "\n",
        "  # Normalizamos el conteo para tratarlo como porcentajes \n",
        "  for i in diccionarioConteo:\n",
        "    diccionarioConteo[i][0] = diccionarioConteo[i][0]/len(playlists)\n",
        "  \n",
        "  # Filtramos los elementos que superan el umbral\n",
        "  # Creamos un auxiliar para poder recorrer pues el diccionario se \n",
        "  # actualiza con cada iteración\n",
        "  diccionarioConteoAux = diccionarioConteo.copy() \n",
        "  for i in diccionarioConteoAux:\n",
        "    if diccionarioConteo[i][0] < min_support:\n",
        "      diccionarioConteo.pop(i)\n",
        "  print(\"Cantidad de elementos filtrados: \", (len(diccionarioConteo)))\n",
        "\n",
        "  itemsets.append(list(diccionarioConteo.keys()))\n",
        "  valoresObtenidos = list(diccionarioConteo.values())\n",
        "  valoresAux=[]\n",
        "  for i in valoresObtenidos:\n",
        "    valoresAux.append(i[0])\n",
        "  valores.append(valoresAux)\n",
        "\n",
        "  # Realizamos el procedimiento para tratar las demás iteraciones\n",
        "  # Pasamos de diccionario a arreglos debido a que no se pueden tener como key\n",
        "  # a más de un elemento\n",
        "  # Procesamos la iteración de dos elementos para realizar el cambio\n",
        "  canciones = list(diccionarioConteo.keys())\n",
        "  conteoDosItemsets = []\n",
        "  for i in range(len(canciones)-1):\n",
        "    for j in range (i+1, len(canciones)):\n",
        "      # Verificar que las canciones se encuentren en la misma playlist\n",
        "      auxApariciones = diccionarioConteo[canciones[i]][1] & diccionarioConteo[canciones[j]][1]\n",
        "      cantApariciones = len(list(auxApariciones))\n",
        "      conteoDosItemsets.append([[canciones[i],canciones[j]],cantApariciones/len(playlists),auxApariciones])\n",
        "\n",
        "  # Filtrar los datos de la nueva estructura\n",
        "  conteoNItemsetsFiltrado = []\n",
        "  for i in range(len(conteoDosItemsets)):\n",
        "    if conteoDosItemsets[i][1] >= min_support:\n",
        "      conteoNItemsetsFiltrado.append(conteoDosItemsets[i])\n",
        "  \n",
        "  # Almacenar el itemset y los valores de la nueva iteración para saber si continúa o no la poda\n",
        "  itemsetActual = []\n",
        "  valoresActual = []\n",
        "  for i in conteoNItemsetsFiltrado:\n",
        "    itemsetActual.append(i[0])\n",
        "    valoresActual.append(i[1])\n",
        "  \n",
        "  # Creamos bandera para controlar el bucle\n",
        "  seguir = True\n",
        "  iter += 1\n",
        "  print(\"Iteración número ===> \",iter)\n",
        "  print(\"Cantidad de elementos filtrados: \", (len(conteoNItemsetsFiltrado)))\n",
        "  while(True):\n",
        "    # Almacenamos los itemsets y sus valores  \n",
        "    itemsets.append(itemsetActual)\n",
        "    valores.append(valoresActual)\n",
        "    # Se termina si no se tienen más de 2 elementos\n",
        "    if len(conteoNItemsetsFiltrado) <= 1:\n",
        "      print(\"Iteraciones finalizadas\")\n",
        "      break\n",
        "    # Determinamos que nos encontramos en una nueva iteración válida\n",
        "    iter+=1\n",
        "    print(\"Iteración número ===> \",iter)\n",
        "    # Creación del nuevo itemset\n",
        "    nuevoItemset = conteoNItemsets(itemsetActual, conteoNItemsetsFiltrado, len(playlists))\n",
        "    \n",
        "    # Realizamos la limpieza del nuevo itemset\n",
        "    conteoNItemsetsFiltrado = []\n",
        "    for i in range(len(nuevoItemset)):\n",
        "      if nuevoItemset[i][1] >= min_support:\n",
        "        conteoNItemsetsFiltrado.append(nuevoItemset[i])\n",
        "\n",
        "    # Actualizamos para la nueva iteracion\n",
        "    itemsetActual = []\n",
        "    valoresActual = []\n",
        "    for i in conteoNItemsetsFiltrado:\n",
        "      itemsetActual.append(i[0])\n",
        "      valoresActual.append(i[1])\n",
        "\n",
        "    print(\"Cantidad de elementos filtrados: \", (len(conteoNItemsetsFiltrado)))\n",
        "  return itemsets, valores"
      ],
      "execution_count": 60,
      "outputs": []
    },
    {
      "cell_type": "code",
      "metadata": {
        "id": "2bEg-qzYQuUW"
      },
      "source": [
        "def generate_association_rules(frequent_itemsets, confidence = 0, lift = 0):\n",
        "  arregloReglas = []\n",
        "  arregloLifts = []\n",
        "  arregloConfianzas = []\n",
        "  arregloSoportes = []\n",
        "  itemsets = frequent_itemsets[0]\n",
        "  valores = frequent_itemsets[1]\n",
        "  arregloX = []\n",
        "  arregloY = []\n",
        "  longRegla = 2\n",
        "  # Obtención de posibles reglas\n",
        "  while longRegla <= len(itemsets):\n",
        "    itemsetAux = itemsets[longRegla-1]\n",
        "    for elemento in itemsetAux:\n",
        "      X, Y = obtenerReglas(elemento)\n",
        "      arregloX += X\n",
        "      arregloY += Y\n",
        "    longRegla += 1\n",
        "  # Obtención de lift Y confianza\n",
        "  for i in range(len(arregloX)):\n",
        "    X = arregloX[i]\n",
        "    Y = arregloY[i]\n",
        "    XuY = X+Y\n",
        "    # Obtención de valores en base a la teoría\n",
        "    # Para X\n",
        "    posicionElemento = itemsets[len(X)-1].index(X[0])\n",
        "    Px = valores[len(X)-1][posicionElemento]\n",
        "    # Para Y\n",
        "    posicionElemento = itemsets[len(Y)-1].index(Y[0])\n",
        "    Py = valores[len(Y)-1][posicionElemento]\n",
        "    # Para X U Y\n",
        "    try:\n",
        "      posicionElemento = itemsets[len(XuY)-1].index(XuY)\n",
        "      PXuY = valores[len(XuY)-1][posicionElemento]\n",
        "    except:\n",
        "      a=0\n",
        "    # Cálculo de confianza\n",
        "    confianza = PXuY/Px\n",
        "    # Cálculo de lift\n",
        "    liftActual = PXuY/Px/Py\n",
        "    # Validación con el umbral\n",
        "    if(liftActual >= lift and confianza >= confidence):\n",
        "      arregloReglas.append([X,Y])\n",
        "      arregloConfianzas.append(confianza)\n",
        "      arregloLifts.append(liftActual)\n",
        "      arregloSoportes.append(PXuY)\n",
        "  return  arregloReglas,arregloConfianzas,arregloLifts,arregloSoportes"
      ],
      "execution_count": 148,
      "outputs": []
    },
    {
      "cell_type": "markdown",
      "metadata": {
        "id": "29hWh6z2GSUr"
      },
      "source": [
        "## Uso del algoritmo apriori con el dataset spotify"
      ]
    },
    {
      "cell_type": "markdown",
      "metadata": {
        "id": "DRW5dxh9d4vx"
      },
      "source": [
        "### Obtención de itemsetsfrecuentes\n",
        "- Se puede observar la cantidad de elementos hallados en cada iteración usando el umbral de 0.015"
      ]
    },
    {
      "cell_type": "code",
      "metadata": {
        "id": "i8d7OVlKQxPX",
        "colab": {
          "base_uri": "https://localhost:8080/"
        },
        "outputId": "685b4c27-7129-4238-c76f-0ed2c007cbff"
      },
      "source": [
        "itemsets = get_frequent_itemsets(playlists, 0.014)"
      ],
      "execution_count": 203,
      "outputs": [
        {
          "output_type": "stream",
          "name": "stdout",
          "text": [
            "Iteración número ===>  1\n",
            "Cantidad de elementos filtrados:  434\n",
            "Iteración número ===>  2\n",
            "Cantidad de elementos filtrados:  28\n",
            "Iteración número ===>  3\n",
            "Cantidad de elementos filtrados:  0\n",
            "Iteraciones finalizadas\n"
          ]
        }
      ]
    },
    {
      "cell_type": "markdown",
      "metadata": {
        "id": "Gvw-epWFevqA"
      },
      "source": [
        "- Los datos obtenidos en los itemsets son:"
      ]
    },
    {
      "cell_type": "code",
      "metadata": {
        "colab": {
          "base_uri": "https://localhost:8080/"
        },
        "id": "Sb-y6qBFeuc6",
        "outputId": "47db2404-af6f-4f55-8d78-cc7cba7074ff"
      },
      "source": [
        "print(\"ITEMSETS\")\n",
        "print(itemsets[0])\n",
        "print(\"VALORES\")\n",
        "print(itemsets[1])"
      ],
      "execution_count": 165,
      "outputs": [
        {
          "output_type": "stream",
          "name": "stdout",
          "text": [
            "ITEMSETS\n",
            "[['Crazy In Love', \"It Wasn't Me\", 'Yeah!', 'Say My Name', 'Hey Ya! - Radio Mix / Club Mix', 'Promiscuous', 'Party In The U.S.A.', 'Forever', 'Closer', 'Mr. Brightside', 'All The Small Things', 'Home', 'Billie Jean', 'Seven Nation Army', 'Ignition - Remix', \"Jessie's Girl\", \"Don't Stop Believin'\", 'Bohemian Rhapsody - Remastered 2011', 'No Role Modelz', 'Stronger', 'No Type', 'Lean On (feat. MØ & DJ Snake)', 'Summertime', 'Trouble', 'All I Want', 'Do I Wanna Know?', 'Chasing Cars', 'Riptide', 'How to Save a Life', 'Weak', 'Runaway', 'Intro', 'Mercy', 'What They Want', 'Issues', 'Gravity', 'One Dance', 'Sober', 'All Time Low', 'Your Song', 'Wonderwall - Remastered', 'Springsteen', 'Santeria', 'Brown Eyed Girl', 'Redbone', 'Body Like A Back Road', 'My Girl', 'I Want You Back', 'Starving', 'Smile', 'Crazy', 'Sweet Home Alabama', \"Sweet Child O' Mine\", 'Despacito - Remix', \"I'm the One\", 'Hello', 'Jungle', \"'Till I Collapse\", 'Ghost', 'Uptown Funk', 'V. 3005', 'Where Are Ü Now (with Justin Bieber)', 'Counting Stars', 'CAN\\'T STOP THE FEELING! (Original Song from DreamWorks Animation\\'s \"TROLLS\")', 'Hold On', 'Angel', 'Low Life', 'Waves', 'White Iverson', 'Jumpman', 'Father Stretch My Hands Pt. 1', 'Ni**as In Paris', 'Black Beatles', 'X (feat. Future)', 'Paris', 'Water', 'Bounce Back', 'Swimming Pools (Drank)', 'goosebumps', \"F**kin' Problems\", 'Deja Vu', 'Congratulations', 'XO TOUR Llif3', 'One Night', 'Magnolia', 'Unforgettable', 'Bank Account', 'LOVE. FEAT. ZACARI.', 'Stay (with Alessia Cara)', 'Something Just Like This', 'Believer', 'Let It Go', 'Die A Happy Man', 'Hallelujah', 'Blessings', 'Skinny Love', 'I Miss You', 'Too Good', 'Energy', 'Young, Wild & Free (feat. Bruno Mars) - feat. Bruno Mars', 'Caroline', 'Wasted', 'In the Name of Love', 'Famous', 'Fake Love', 'Wet Dreamz', 'You & Me', 'Shape of You', 'Perfect', \"That's What I Like\", 'All Night (feat. Knox Fortune)', \"Say You Won't Let Go\", 'Chicken Fried', 'Come On Eileen', 'Demons', \"Livin' On A Prayer\", 'Radioactive', 'Sweet Caroline', 'Never Be Like You', 'Say It', 'Alright', 'm.A.A.d city', 'Bonfire', 'Monster', 'Thinkin Bout You', 'Planez', 'Breezeblocks', 'Midnight City', 'Starboy', 'pick up the phone', 'Everyday', 'T-Shirt', 'Selfish', 'Electric Love', \"It Ain't Me (with Selena Gomez)\", 'Slide', 'Alone', \"Can't Help Falling in Love\", 'September', \"Ain't No Mountain High Enough\", 'Kids', 'Budapest', 'Gold', 'Toes', 'Down', \"Hips Don't Lie\", 'oui', 'Exchange', 'Let Me Love You', \"Hold On, We're Going Home\", 'Earned It (Fifty Shades Of Grey)', 'Often', 'Kiss Me', 'Stay', 'Pumped Up Kicks', 'Halo', \"Can't Feel My Face\", 'All My Friends', \"i hate u, i love u (feat. olivia o'brien)\", 'PILLOWTALK', 'This Could Be Us', 'With You', 'Location', '1-800-273-8255', 'Swang', 'Take Me To Church', \"Don't\", 'Say Something', 'Hurricane', 'How Deep Is Your Love', 'Never Forget You', 'Sorry', 'What Do You Mean?', 'Roses', 'Middle', 'Shut Up and Dance', 'Cheap Thrills', 'Thinking Out Loud', 'Ho Hey', 'Rather Be (feat. Jess Glynne)', 'Summer', \"Can't Hold Us - feat. Ray Dalton\", 'Sorry Not Sorry', 'Young Dumb & Broke', 'Wild Thoughts', \"It's A Vibe\", 'Stay With Me', 'Lay Me Down', 'Paradise', 'All of Me', 'Sugar', 'Wagon Wheel', 'Cruise', 'Dream On', 'Piano Man', 'Hotel California - Remastered', 'You Make My Dreams - Remastered', 'Heathens', 'Cold Water (feat. Justin Bieber & MØ)', 'Ride', 'Someday', 'Feels', 'Chandelier', 'Flex (Ooh, Ooh, Ooh)', 'Trap Queen', '0 To 100 / The Catch Up', \"I Don't Fuck With You\", 'Fast Car', 'Landslide', 'XO', 'Stitches', 'Stolen Dance', 'Photograph', 'Sweater Weather', 'Latch', 'Hero', 'rockstar', 'Passionfruit', 'HUMBLE.', 'Tunnel Vision', 'You Was Right', 'Drowning (feat. Kodak Black)', 'Smells Like Teen Spirit', 'G.O.M.D.', 'Africa', \"Don't Let Me Down\", 'Lose Yourself - Soundtrack Version', 'Pompeii', 'Let Her Go', 'Take Your Time', 'Panda', 'Broccoli (feat. Lil Yachty)', 'Faded', 'No Problem (feat. Lil Wayne & 2 Chainz)', 'Bad and Boujee (feat. Lil Uzi Vert)', 'Mask Off', \"Buy U a Drank (Shawty Snappin')\", 'Slippery (feat. Gucci Mane)', 'Butterfly Effect', 'Sunday Morning', 'Portland', 'DNA.', 'Antidote', 'Numb', 'Stressed Out', 'Ophelia', 'In Da Club', 'Me, Myself & I', 'I Took A Pill In Ibiza - Seeb Remix', 'Fancy', 'Secrets', \"I Won't Give Up\", 'Sail', 'Bodak Yellow', 'Go Flex', 'Come Get Her', 'Rich Girl', 'No Diggity', 'Cheerleader - Felix Jaehn Remix Radio Edit', 'Chill Bill', 'Work', 'Money Longer', 'Pop Style', 'House Party', 'Play It Again', 'Knee Deep (feat. Jimmy Buffett)', 'You', 'iSpy (feat. Lil Yachty)', 'Hotline Bling', 'The Hills', '679 (feat. Remy Boyz)', 'Controlla', 'Promise', 'Wake Up', 'Needed Me', 'Work from Home', '24K Magic', 'My House', 'Believe', 'Little Talks', 'Only', 'Love Yourself', 'Alive', 'Side To Side', 'This Is What You Came For', 'Silent Night', 'Drive', 'Under The Bridge', 'All Star', 'Bang Bang', 'HeadBand (feat. 2 Chainz)', 'Again', 'Heartbeat', 'Slow Motion', 'Rolex', 'Love Me', 'Gold Digger', 'Cake By The Ocean', 'Get Low - Street', 'Hey, Soul Sister', \"I'm Yours\", 'Wake Me Up - Radio Edit', 'She Will Be Loved - Radio Mix', 'Pony', 'Thunder', 'IV. sweatpants', 'No Hands (feat. Roscoe Dash and Wale) - Explicit Album Version', 'Hey There Delilah', 'Beautiful', 'Creep', '7 Years', 'Back To Back', 'Drops of Jupiter'], [['Bounce Back', 'Bad and Boujee (feat. Lil Uzi Vert)'], ['goosebumps', 'HUMBLE.'], ['Congratulations', 'XO TOUR Llif3'], ['Congratulations', 'HUMBLE.'], ['Congratulations', 'Mask Off'], ['Congratulations', 'iSpy (feat. Lil Yachty)'], ['XO TOUR Llif3', 'HUMBLE.'], ['XO TOUR Llif3', 'Mask Off'], ['Caroline', 'Broccoli (feat. Lil Yachty)'], ['HUMBLE.', 'Bad and Boujee (feat. Lil Uzi Vert)'], ['HUMBLE.', 'Mask Off'], ['HUMBLE.', 'DNA.']], []]\n",
            "VALORES\n",
            "[[0.019, 0.0221, 0.0244, 0.0268, 0.0212, 0.0166, 0.0217, 0.0337, 0.0761, 0.025, 0.0165, 0.0489, 0.0199, 0.0177, 0.0319, 0.0184, 0.0271, 0.0243, 0.0312, 0.0263, 0.0179, 0.0276, 0.017, 0.0219, 0.0234, 0.0165, 0.0186, 0.0339, 0.0169, 0.0175, 0.0183, 0.023, 0.0318, 0.0182, 0.0172, 0.0211, 0.0433, 0.025, 0.0192, 0.0167, 0.0184, 0.0166, 0.0175, 0.0195, 0.0285, 0.0273, 0.0295, 0.0194, 0.0183, 0.0181, 0.0213, 0.0215, 0.0213, 0.0288, 0.0321, 0.0305, 0.0225, 0.0172, 0.0168, 0.0233, 0.0222, 0.0201, 0.0175, 0.0209, 0.0235, 0.0225, 0.0241, 0.0248, 0.0306, 0.029, 0.0165, 0.0284, 0.0296, 0.0205, 0.0267, 0.0176, 0.03, 0.0174, 0.0308, 0.0229, 0.0262, 0.041, 0.033, 0.0174, 0.02, 0.0331, 0.0231, 0.0181, 0.0218, 0.0222, 0.0254, 0.0281, 0.021, 0.0283, 0.0284, 0.0273, 0.017, 0.0204, 0.0169, 0.0175, 0.0395, 0.0173, 0.0174, 0.0212, 0.0307, 0.0193, 0.0178, 0.0321, 0.0211, 0.0264, 0.0166, 0.0207, 0.0218, 0.0207, 0.0195, 0.017, 0.0246, 0.0172, 0.0232, 0.0286, 0.0281, 0.0174, 0.0176, 0.0232, 0.019, 0.0164, 0.0165, 0.0168, 0.0285, 0.0199, 0.0194, 0.0355, 0.0271, 0.0182, 0.0164, 0.0323, 0.0215, 0.0163, 0.0261, 0.0233, 0.02, 0.0164, 0.0386, 0.0162, 0.0296, 0.0186, 0.0185, 0.0172, 0.0403, 0.0163, 0.0191, 0.0166, 0.0164, 0.0355, 0.0188, 0.02, 0.0226, 0.0188, 0.0207, 0.0163, 0.0161, 0.023, 0.0326, 0.0264, 0.0223, 0.0195, 0.0311, 0.0162, 0.029, 0.0165, 0.0163, 0.033, 0.022, 0.0436, 0.0231, 0.0229, 0.0214, 0.0238, 0.0173, 0.0183, 0.0207, 0.0186, 0.0185, 0.0221, 0.0193, 0.0161, 0.0205, 0.0192, 0.0226, 0.0241, 0.0204, 0.0247, 0.0174, 0.016, 0.0168, 0.0186, 0.0166, 0.0228, 0.0241, 0.0429, 0.0162, 0.0168, 0.0164, 0.0167, 0.0298, 0.0163, 0.0241, 0.0234, 0.0184, 0.0175, 0.0174, 0.0191, 0.0219, 0.018, 0.0165, 0.0192, 0.0234, 0.0257, 0.047, 0.0252, 0.0199, 0.0195, 0.0171, 0.016, 0.0171, 0.0322, 0.0196, 0.019, 0.0234, 0.0164, 0.032, 0.0402, 0.0194, 0.0323, 0.0353, 0.0316, 0.0167, 0.0241, 0.0194, 0.0168, 0.0173, 0.0232, 0.0264, 0.0187, 0.0228, 0.0187, 0.0174, 0.0247, 0.0225, 0.0183, 0.0182, 0.0161, 0.0189, 0.0189, 0.0174, 0.0173, 0.0164, 0.0208, 0.0192, 0.023, 0.0271, 0.0197, 0.019, 0.0188, 0.0197, 0.0163, 0.0248, 0.0339, 0.0277, 0.028, 0.0246, 0.0212, 0.018, 0.0215, 0.0242, 0.0222, 0.0168, 0.021, 0.022, 0.0164, 0.0166, 0.0222, 0.0233, 0.0162, 0.0215, 0.0214, 0.0242, 0.0162, 0.0168, 0.0187, 0.0161, 0.0214, 0.0176, 0.0189, 0.0161, 0.0184, 0.0291, 0.0172, 0.0173, 0.0166, 0.0248, 0.0171, 0.019, 0.0161, 0.0194, 0.0184, 0.0194, 0.019, 0.0202, 0.0171, 0.0197, 0.0167, 0.0167], [0.0169, 0.0167, 0.0179, 0.0214, 0.0162, 0.0162, 0.0204, 0.0163, 0.0172, 0.0167, 0.0204, 0.019], []]\n"
          ]
        }
      ]
    },
    {
      "cell_type": "markdown",
      "metadata": {
        "id": "RRh10K_L56Sh"
      },
      "source": [
        "- Generar reglas de asociación"
      ]
    },
    {
      "cell_type": "code",
      "metadata": {
        "id": "PEA9sHeleDe8"
      },
      "source": [
        "datosReglas = generate_association_rules(itemsets,confidence=0.5,lift=1.4)\n",
        "reglasObtenidas = datosReglas[0]\n",
        "confianzasObtenidas = datosReglas[1]\n",
        "liftsObtenidos = datosReglas[2]\n",
        "soportesObtenidos = datosReglas[3]"
      ],
      "execution_count": 218,
      "outputs": []
    },
    {
      "cell_type": "markdown",
      "metadata": {
        "id": "OANtfgZ-59gG"
      },
      "source": [
        "- Mostrar reglas de asociación con valores de confianza, lift y support obtenidos"
      ]
    },
    {
      "cell_type": "code",
      "metadata": {
        "colab": {
          "base_uri": "https://localhost:8080/"
        },
        "id": "sJKPU1CT5-SF",
        "outputId": "dd2abd0b-b9c8-4bd0-b835-396e15853bb9"
      },
      "source": [
        "for i in range(len(reglasObtenidas)):\n",
        "  print(\"==================== Regla: \",i+1,\" ===========================\")\n",
        "  print(\"|\"+reglasObtenidas[i][0][0], \"---------->\", reglasObtenidas[i][1][0])\n",
        "  print(\"|Confianza:\\t\\t\", confianzasObtenidas[i])\n",
        "  print(\"|Lift:\\t\\t\\t\", liftsObtenidos[i])\n",
        "  print(\"|Soporte:\\t\\t\", soportesObtenidos[i])"
      ],
      "execution_count": 235,
      "outputs": [
        {
          "output_type": "stream",
          "name": "stdout",
          "text": [
            "==================== Regla:  1  ===========================\n",
            "|Cold Water (feat. Justin Bieber & MØ) ----------> Closer\n",
            "|Confianza:\t\t 0.5032467532467533\n",
            "|Lift:\t\t\t 7.906172812580085\n",
            "|Soporte:\t\t 0.0145\n",
            "==================== Regla:  2  ===========================\n",
            "|Bounce Back ----------> HUMBLE.\n",
            "|Confianza:\t\t 0.5126582278481012\n",
            "|Lift:\t\t\t 11.063829787234043\n",
            "|Soporte:\t\t 0.0156\n",
            "==================== Regla:  3  ===========================\n",
            "|Bounce Back ----------> Bad and Boujee (feat. Lil Uzi Vert)\n",
            "|Confianza:\t\t 0.5158227848101264\n",
            "|Lift:\t\t\t 15.958451369216244\n",
            "|Soporte:\t\t 0.0169\n",
            "==================== Regla:  4  ===========================\n",
            "|goosebumps ----------> Congratulations\n",
            "|Confianza:\t\t 0.52\n",
            "|Lift:\t\t\t 12.27431105479886\n",
            "|Soporte:\t\t 0.0155\n",
            "==================== Regla:  5  ===========================\n",
            "|goosebumps ----------> HUMBLE.\n",
            "|Confianza:\t\t 0.521951219512195\n",
            "|Lift:\t\t\t 11.53633600442111\n",
            "|Soporte:\t\t 0.0167\n",
            "==================== Regla:  6  ===========================\n",
            "|XO TOUR Llif3 ----------> Congratulations\n",
            "|Confianza:\t\t 0.5422077922077921\n",
            "|Lift:\t\t\t 13.229859571322985\n",
            "|Soporte:\t\t 0.0179\n",
            "==================== Regla:  7  ===========================\n",
            "|Congratulations ----------> HUMBLE.\n",
            "|Confianza:\t\t 0.5424242424242424\n",
            "|Lift:\t\t\t 11.10534509600415\n",
            "|Soporte:\t\t 0.0214\n",
            "==================== Regla:  8  ===========================\n",
            "|Mask Off ----------> Congratulations\n",
            "|Confianza:\t\t 0.5633333333333334\n",
            "|Lift:\t\t\t 12.503859215807346\n",
            "|Soporte:\t\t 0.0162\n",
            "==================== Regla:  9  ===========================\n",
            "|XO TOUR Llif3 ----------> HUMBLE.\n",
            "|Confianza:\t\t 0.6016597510373445\n",
            "|Lift:\t\t\t 13.152804642166345\n",
            "|Soporte:\t\t 0.0204\n",
            "==================== Regla:  10  ===========================\n",
            "|Mask Off ----------> XO TOUR Llif3\n",
            "|Confianza:\t\t 0.6141078838174274\n",
            "|Lift:\t\t\t 15.63099347909474\n",
            "|Soporte:\t\t 0.0163\n",
            "==================== Regla:  11  ===========================\n",
            "|Mask Off ----------> HUMBLE.\n",
            "|Confianza:\t\t 0.6181818181818182\n",
            "|Lift:\t\t\t 13.735523835173714\n",
            "|Soporte:\t\t 0.0204\n",
            "==================== Regla:  12  ===========================\n",
            "|Slippery (feat. Gucci Mane) ----------> HUMBLE.\n",
            "|Confianza:\t\t 0.6455696202531646\n",
            "|Lift:\t\t\t 13.06612518760484\n",
            "|Soporte:\t\t 0.0148\n",
            "==================== Regla:  13  ===========================\n",
            "|DNA. ----------> HUMBLE.\n",
            "|Confianza:\t\t 0.8189655172413793\n",
            "|Lift:\t\t\t 17.424798239178283\n",
            "|Soporte:\t\t 0.019\n"
          ]
        }
      ]
    },
    {
      "cell_type": "markdown",
      "metadata": {
        "id": "y0wV1MuM_Fh4"
      },
      "source": [
        "## Explicación de reglas obtenidas\n",
        "- Seleccionando las 4 reglas con mayor confianza\n",
        "\n"
      ]
    },
    {
      "cell_type": "markdown",
      "metadata": {
        "id": "G7EZMX9H_bPW"
      },
      "source": [
        "1.   DNA. ----------> HUMBLE.\n",
        "- Confianza:\t\t 0.8189655172413793\n",
        "- Lift:\t\t\t 17.424798239178283\n",
        "- Soporte:\t\t 0.019\n",
        "2.   Slippery (feat. Gucci Mane) ----------> HUMBLE.\n",
        "- Confianza:\t\t 0.6455696202531646\n",
        "- Lift:\t\t\t 13.06612518760484\n",
        "- Soporte:\t\t 0.0148\n",
        "3.   Mask Off ----------> HUMBLE.\n",
        "- Confianza:\t\t 0.6181818181818182\n",
        "- Lift:\t\t\t 13.735523835173714\n",
        "- Soporte:\t\t 0.0204\n",
        "4.   Mask Off ----------> XO TOUR Llif3\n",
        "- Confianza:\t\t 0.6141078838174274\n",
        "- Lift:\t\t\t 15.63099347909474\n",
        "- Soporte:\t\t 0.0163\n",
        "\n",
        "```\n",
        "Se puede ver que pese a que las confianzas son las más altas, los lifts no son precisamente los más altos, pero se mantienen cerca al top.\n",
        "Pero los soportes no son tan altos en comparación a los de otras reglas.\n",
        "```\n"
      ]
    },
    {
      "cell_type": "markdown",
      "metadata": {
        "id": "I8LL1AijBsYv"
      },
      "source": [
        "### Considerando las canciones:\n",
        "1. DNA\n",
        "\n",
        "  Artista: Kendrick Lamar\n",
        "2. HUMBLE\n",
        "\n",
        "  Artista: Kendrick Lamar\n",
        "3. Slippery (feat. Gucci Mane)\n",
        "\n",
        "  Artista: Migos\n",
        "4. Mask Off\n",
        "\n",
        "  Artista: Future\n",
        "5. XO TOUR Llif3\n",
        "\n",
        "  Artista: Lil Uzi Vert\n",
        "\n",
        "\n",
        "\n",
        "\n",
        "- Podemos ver que el Artista Kendrick Lamar tiene dos temas destacables DNA y HUMBLE, siendo una sola regla la que contiene a ambos, además de que HUMBLE aparece en dos reglas adicionales, otra información a destacar es que estos dos temas son del mismo disco. Lo cual nos puede hacer notar que fue un momento destacable para el artista.\n",
        "- Algo a considerar es que todos los temas son considerados dentro del ámbito del Hip Hop, tanto en los géneros de rap y trap, y que, al mismo tiempo, todos estos artistas son de raza afroamericana.\n",
        "- Todos los artistas de la lista son varones, lo cual nos puede hacer notar que en este ámbito las mujeres no alcanzaron una popularidad muy alta, al menos en estos géneros musicales, pese a haber artitas conocidas como Iggy Azalea, Nicki Minaj o Cardi B.\n",
        "- El punto anterior nos hace notar que algo importante es conocer la fecha de estas canciones, por lo cual, tras buscar esta información, se encontró que todas las canciones salieron en el año 2017, año en el que artistas femeninas no tuvieron tanto realce."
      ]
    }
  ]
}