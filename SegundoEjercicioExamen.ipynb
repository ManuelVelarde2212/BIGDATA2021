{
 "cells": [
  {
   "cell_type": "markdown",
   "id": "306b8aa5",
   "metadata": {},
   "source": [
    "# Ejercicio 2 resuelto en clase\n",
    "Ejercicio 2 del primer examen parcial, resuelto en clase haciendo uso de Mínimo Común Múltiplo"
   ]
  },
  {
   "cell_type": "code",
   "execution_count": 1,
   "id": "cfd4ca99",
   "metadata": {},
   "outputs": [],
   "source": [
    "mcmN :: [Int] -> Int\n",
    "mcmN [a] = a\n",
    "mcmN (a:as) = foldl lcm a as"
   ]
  },
  {
   "cell_type": "code",
   "execution_count": 2,
   "id": "4a4e632e",
   "metadata": {},
   "outputs": [],
   "source": [
    "mediaDivN :: Int -> Int -> Double\n",
    "mediaDivN d n = media\n",
    "    where\n",
    "        mcm = mcmN [1..d]\n",
    "        media = fromIntegral mcm * fromIntegral (n+1) / 2"
   ]
  },
  {
   "cell_type": "code",
   "execution_count": 3,
   "id": "195bf4bd",
   "metadata": {},
   "outputs": [
    {
     "data": {
      "text/plain": [
       "5.0"
      ]
     },
     "metadata": {},
     "output_type": "display_data"
    }
   ],
   "source": [
    "mediaDivN 2 4"
   ]
  }
 ],
 "metadata": {
  "kernelspec": {
   "display_name": "Haskell",
   "language": "haskell",
   "name": "haskell"
  },
  "language_info": {
   "codemirror_mode": "ihaskell",
   "file_extension": ".hs",
   "mimetype": "text/x-haskell",
   "name": "haskell",
   "pygments_lexer": "Haskell",
   "version": "8.10.7"
  }
 },
 "nbformat": 4,
 "nbformat_minor": 5
}
